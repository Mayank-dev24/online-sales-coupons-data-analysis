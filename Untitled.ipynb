{
 "cells": [
  {
   "cell_type": "code",
   "execution_count": 1,
   "id": "80c19235-db96-4730-8560-d71d0f452d00",
   "metadata": {},
   "outputs": [
    {
     "name": "stdout",
     "output_type": "stream",
     "text": [
      "<class 'pandas.core.frame.DataFrame'>\n",
      "RangeIndex: 100 entries, 0 to 99\n",
      "Data columns (total 10 columns):\n",
      " #   Column        Non-Null Count  Dtype \n",
      "---  ------        --------------  ----- \n",
      " 0   Order_ID      100 non-null    int64 \n",
      " 1   Customer_ID   100 non-null    object\n",
      " 2   Product       100 non-null    object\n",
      " 3   Category      100 non-null    object\n",
      " 4   Price         100 non-null    int64 \n",
      " 5   Discount (%)  100 non-null    int64 \n",
      " 6   Coupon_Code   100 non-null    object\n",
      " 7   Used_Coupon   100 non-null    object\n",
      " 8   Date          100 non-null    object\n",
      " 9   Location      100 non-null    object\n",
      "dtypes: int64(3), object(7)\n",
      "memory usage: 7.9+ KB\n"
     ]
    }
   ],
   "source": [
    "import pandas as pd\n",
    "import numpy as np\n",
    "import seaborn as sb\n",
    "import matplotlib.pyplot as plt\n",
    "df = pd.read_csv(r\"C:\\Users\\ASUS\\OneDrive\\Desktop\\jupyter\\project 2\\online_sales_coupon_data.csv\")\n",
    "df.info()\n",
    "df.describe()\n",
    "null_count = df.isnull().sum()"
   ]
  },
  {
   "cell_type": "code",
   "execution_count": 2,
   "id": "d064789a-a3cc-46b6-9575-87ddf12cde37",
   "metadata": {},
   "outputs": [
    {
     "name": "stdout",
     "output_type": "stream",
     "text": [
      "Order_ID        0.0\n",
      "Customer_ID     0.0\n",
      "Product         0.0\n",
      "Category        0.0\n",
      "Price           0.0\n",
      "Discount (%)    0.0\n",
      "Coupon_Code     0.0\n",
      "Used_Coupon     0.0\n",
      "Date            0.0\n",
      "Location        0.0\n",
      "dtype: float64\n"
     ]
    }
   ],
   "source": [
    "# finding the null count percentage\n",
    "null_per = (null_count/len(df))*100\n",
    "print(null_per)"
   ]
  },
  {
   "cell_type": "code",
   "execution_count": 3,
   "id": "2a9d1168-dc7d-4270-99ce-f4c30ea9d472",
   "metadata": {},
   "outputs": [
    {
     "name": "stdout",
     "output_type": "stream",
     "text": [
      "Product\n",
      "Sunglasses    14\n",
      "Phone         12\n",
      "Watch          8\n",
      "Book           8\n",
      "Smartwatch     7\n",
      "Laptop         6\n",
      "Shoes          5\n",
      "Headphones     5\n",
      "Backpack       4\n",
      "T-shirt        3\n",
      "Name: Customer_ID, dtype: int64\n"
     ]
    }
   ],
   "source": [
    "#Provide the Customer engagement rise on which product is highest\n",
    "#converting the letters into lowercase\n",
    "df_coupon_used = df[df['Used_Coupon'].str.lower() == 'yes']\n",
    "#finding the rise on which product is highest\n",
    "customer_engagement = df_coupon_used.groupby('Product')['Customer_ID'].nunique().sort_values(ascending=False)\n",
    "print(customer_engagement)"
   ]
  },
  {
   "cell_type": "code",
   "execution_count": 13,
   "id": "97f66289-5e74-440a-a993-5c185bd24c03",
   "metadata": {},
   "outputs": [
    {
     "name": "stdout",
     "output_type": "stream",
     "text": [
      "Product\n",
      "Phone         17\n",
      "Sunglasses    15\n",
      "Watch         12\n",
      "Smartwatch    11\n",
      "Book          10\n",
      "Backpack       8\n",
      "Headphones     8\n",
      "Shoes          7\n",
      "Laptop         6\n",
      "T-shirt        5\n",
      "Name: Customer_ID, dtype: int64\n"
     ]
    },
    {
     "data": {
      "image/png": "[encoded data removed]",
      "text/plain": [
       "<Figure size 1000x600 with 1 Axes>"
      ]
     },
     "metadata": {},
     "output_type": "display_data"
    }
   ],
   "source": [
    "#visualizing the data\n",
    "product_engagement = df.groupby('Product')['Customer_ID'].nunique().sort_values(ascending=False)\n",
    "print(product_engagement)\n",
    "product_engagement.plot(kind='barh', title=\"Customer Engagement per Product\", figsize=(10, 6))\n",
    "plt.show()\n"
   ]
  },
  {
   "cell_type": "code",
   "execution_count": 4,
   "id": "be64ffed-8db1-4326-84c4-8982e3cbbcac",
   "metadata": {},
   "outputs": [
    {
     "name": "stdout",
     "output_type": "stream",
     "text": [
      "Product-wise Total Sales after discount:\n",
      "Product\n",
      "Phone         176507.15\n",
      "Watch         117465.65\n",
      "Sunglasses    116040.05\n",
      "Book           91385.80\n",
      "Smartwatch     85603.65\n",
      "Backpack       79284.75\n",
      "Headphones     61076.30\n",
      "T-shirt        53995.20\n",
      "Shoes          52679.15\n",
      "Laptop         22680.65\n",
      "Name: Final_Price, dtype: float64\n"
     ]
    }
   ],
   "source": [
    "#Product wise classification on sales\n",
    "#we are Calculating the Final Sale Price after discount\n",
    "df['Final_Price'] = df['Price'] * (1 - df['Discount (%)'] / 100)\n",
    "\n",
    "# now making Group by Product and sum Final_Price\n",
    "product_sales = df.groupby('Product')['Final_Price'].sum().sort_values(ascending=False)\n",
    "print(\"Product-wise Total Sales after discount:\")\n",
    "print(product_sales.head(10))"
   ]
  },
  {
   "cell_type": "code",
   "execution_count": null,
   "id": "85356865-5ecf-4a76-a1c2-f4c7a906e02c",
   "metadata": {},
   "outputs": [],
   "source": []
  },
  {
   "cell_type": "code",
   "execution_count": 5,
   "id": "a2d7c212-ef59-45ce-9076-8ed73d37cdbb",
   "metadata": {},
   "outputs": [
    {
     "name": "stderr",
     "output_type": "stream",
     "text": [
      "C:\\Users\\ASUS\\AppData\\Local\\Temp\\ipykernel_13304\\3869971127.py:10: SettingWithCopyWarning: \n",
      "A value is trying to be set on a copy of a slice from a DataFrame.\n",
      "Try using .loc[row_indexer,col_indexer] = value instead\n",
      "\n",
      "See the caveats in the documentation: https://pandas.pydata.org/pandas-docs/stable/user_guide/indexing.html#returning-a-view-versus-a-copy\n",
      "  df_coupon_used['Year'] = df_coupon_used['Date'].dt.year\n"
     ]
    },
    {
     "data": {
      "text/html": [
       "<div>\n",
       "<style scoped>\n",
       "    .dataframe tbody tr th:only-of-type {\n",
       "        vertical-align: middle;\n",
       "    }\n",
       "\n",
       "    .dataframe tbody tr th {\n",
       "        vertical-align: top;\n",
       "    }\n",
       "\n",
       "    .dataframe thead th {\n",
       "        text-align: right;\n",
       "    }\n",
       "</style>\n",
       "<table border=\"1\" class=\"dataframe\">\n",
       "  <thead>\n",
       "    <tr style=\"text-align: right;\">\n",
       "      <th></th>\n",
       "      <th>Most_Used_Coupon</th>\n",
       "      <th>Usage_Count</th>\n",
       "    </tr>\n",
       "    <tr>\n",
       "      <th>Year</th>\n",
       "      <th></th>\n",
       "      <th></th>\n",
       "    </tr>\n",
       "  </thead>\n",
       "  <tbody>\n",
       "    <tr>\n",
       "      <th>2024</th>\n",
       "      <td>STYLE15</td>\n",
       "      <td>6</td>\n",
       "    </tr>\n",
       "    <tr>\n",
       "      <th>2025</th>\n",
       "      <td>OFFER30</td>\n",
       "      <td>8</td>\n",
       "    </tr>\n",
       "  </tbody>\n",
       "</table>\n",
       "</div>"
      ],
      "text/plain": [
       "     Most_Used_Coupon  Usage_Count\n",
       "Year                              \n",
       "2024          STYLE15            6\n",
       "2025          OFFER30            8"
      ]
     },
     "execution_count": 5,
     "metadata": {},
     "output_type": "execute_result"
    }
   ],
   "source": [
    "#Which type of coupon are highest used year wise\n",
    "\n",
    "# first we have to convert Date column to datetime\n",
    "df['Date'] = pd.to_datetime(df['Date'], errors='coerce')\n",
    "\n",
    "# now we Filter only rows where a coupon was used\n",
    "df_coupon_used = df[df['Used_Coupon'].str.lower() == 'yes']\n",
    "\n",
    "# then Extract the year from the date\n",
    "df_coupon_used['Year'] = df_coupon_used['Date'].dt.year\n",
    "\n",
    "# after thuis Group by Year and Coupon_Code and count usage\n",
    "yearly_coupon_usage = df_coupon_used.groupby(['Year', 'Coupon_Code']).size().unstack(fill_value=0)\n",
    "\n",
    "# then For each year we need to find the most used coupon\n",
    "most_used_coupon_per_year = yearly_coupon_usage.idxmax(axis=1)\n",
    "most_used_coupon_counts = yearly_coupon_usage.max(axis=1)\n",
    "\n",
    "# then  Combine results into a DataFrame\n",
    "coupon_trend = pd.DataFrame({\n",
    "    'Most_Used_Coupon': most_used_coupon_per_year,\n",
    "    'Usage_Count': most_used_coupon_counts\n",
    "})\n",
    "\n",
    "coupon_trend\n"
   ]
  },
  {
   "cell_type": "code",
   "execution_count": 6,
   "id": "39485599-7488-45b1-a2f9-c7f5a6ac2c1a",
   "metadata": {},
   "outputs": [
    {
     "data": {
      "text/html": [
       "<div>\n",
       "<style scoped>\n",
       "    .dataframe tbody tr th:only-of-type {\n",
       "        vertical-align: middle;\n",
       "    }\n",
       "\n",
       "    .dataframe tbody tr th {\n",
       "        vertical-align: top;\n",
       "    }\n",
       "\n",
       "    .dataframe thead th {\n",
       "        text-align: right;\n",
       "    }\n",
       "</style>\n",
       "<table border=\"1\" class=\"dataframe\">\n",
       "  <thead>\n",
       "    <tr style=\"text-align: right;\">\n",
       "      <th>Product</th>\n",
       "      <th>Backpack</th>\n",
       "      <th>Book</th>\n",
       "      <th>Headphones</th>\n",
       "      <th>Laptop</th>\n",
       "      <th>Phone</th>\n",
       "      <th>Shoes</th>\n",
       "      <th>Smartwatch</th>\n",
       "      <th>Sunglasses</th>\n",
       "      <th>T-shirt</th>\n",
       "      <th>Watch</th>\n",
       "    </tr>\n",
       "    <tr>\n",
       "      <th>Coupon_Code</th>\n",
       "      <th></th>\n",
       "      <th></th>\n",
       "      <th></th>\n",
       "      <th></th>\n",
       "      <th></th>\n",
       "      <th></th>\n",
       "      <th></th>\n",
       "      <th></th>\n",
       "      <th></th>\n",
       "      <th></th>\n",
       "    </tr>\n",
       "  </thead>\n",
       "  <tbody>\n",
       "    <tr>\n",
       "      <th>CLEAR50</th>\n",
       "      <td>0</td>\n",
       "      <td>1</td>\n",
       "      <td>0</td>\n",
       "      <td>1</td>\n",
       "      <td>0</td>\n",
       "      <td>0</td>\n",
       "      <td>1</td>\n",
       "      <td>2</td>\n",
       "      <td>0</td>\n",
       "      <td>0</td>\n",
       "    </tr>\n",
       "    <tr>\n",
       "      <th>DEAL20</th>\n",
       "      <td>0</td>\n",
       "      <td>2</td>\n",
       "      <td>1</td>\n",
       "      <td>1</td>\n",
       "      <td>2</td>\n",
       "      <td>0</td>\n",
       "      <td>0</td>\n",
       "      <td>2</td>\n",
       "      <td>0</td>\n",
       "      <td>2</td>\n",
       "    </tr>\n",
       "    <tr>\n",
       "      <th>DISCOUNT5</th>\n",
       "      <td>0</td>\n",
       "      <td>0</td>\n",
       "      <td>0</td>\n",
       "      <td>0</td>\n",
       "      <td>0</td>\n",
       "      <td>0</td>\n",
       "      <td>0</td>\n",
       "      <td>1</td>\n",
       "      <td>0</td>\n",
       "      <td>1</td>\n",
       "    </tr>\n",
       "    <tr>\n",
       "      <th>FESTIVE40</th>\n",
       "      <td>0</td>\n",
       "      <td>2</td>\n",
       "      <td>0</td>\n",
       "      <td>1</td>\n",
       "      <td>1</td>\n",
       "      <td>1</td>\n",
       "      <td>1</td>\n",
       "      <td>1</td>\n",
       "      <td>1</td>\n",
       "      <td>0</td>\n",
       "    </tr>\n",
       "    <tr>\n",
       "      <th>NEWUSER15</th>\n",
       "      <td>0</td>\n",
       "      <td>0</td>\n",
       "      <td>1</td>\n",
       "      <td>0</td>\n",
       "      <td>0</td>\n",
       "      <td>0</td>\n",
       "      <td>2</td>\n",
       "      <td>3</td>\n",
       "      <td>0</td>\n",
       "      <td>2</td>\n",
       "    </tr>\n",
       "    <tr>\n",
       "      <th>OFFER30</th>\n",
       "      <td>1</td>\n",
       "      <td>0</td>\n",
       "      <td>1</td>\n",
       "      <td>0</td>\n",
       "      <td>3</td>\n",
       "      <td>2</td>\n",
       "      <td>1</td>\n",
       "      <td>1</td>\n",
       "      <td>0</td>\n",
       "      <td>2</td>\n",
       "    </tr>\n",
       "    <tr>\n",
       "      <th>SAVE10</th>\n",
       "      <td>0</td>\n",
       "      <td>0</td>\n",
       "      <td>1</td>\n",
       "      <td>1</td>\n",
       "      <td>0</td>\n",
       "      <td>1</td>\n",
       "      <td>0</td>\n",
       "      <td>1</td>\n",
       "      <td>1</td>\n",
       "      <td>0</td>\n",
       "    </tr>\n",
       "    <tr>\n",
       "      <th>STYLE15</th>\n",
       "      <td>2</td>\n",
       "      <td>0</td>\n",
       "      <td>1</td>\n",
       "      <td>1</td>\n",
       "      <td>3</td>\n",
       "      <td>1</td>\n",
       "      <td>0</td>\n",
       "      <td>0</td>\n",
       "      <td>1</td>\n",
       "      <td>1</td>\n",
       "    </tr>\n",
       "    <tr>\n",
       "      <th>TECH10</th>\n",
       "      <td>1</td>\n",
       "      <td>2</td>\n",
       "      <td>0</td>\n",
       "      <td>0</td>\n",
       "      <td>1</td>\n",
       "      <td>0</td>\n",
       "      <td>1</td>\n",
       "      <td>2</td>\n",
       "      <td>0</td>\n",
       "      <td>0</td>\n",
       "    </tr>\n",
       "    <tr>\n",
       "      <th>WELCOME25</th>\n",
       "      <td>0</td>\n",
       "      <td>1</td>\n",
       "      <td>0</td>\n",
       "      <td>1</td>\n",
       "      <td>2</td>\n",
       "      <td>0</td>\n",
       "      <td>1</td>\n",
       "      <td>1</td>\n",
       "      <td>0</td>\n",
       "      <td>0</td>\n",
       "    </tr>\n",
       "  </tbody>\n",
       "</table>\n",
       "</div>"
      ],
      "text/plain": [
       "Product      Backpack  Book  Headphones  Laptop  Phone  Shoes  Smartwatch  \\\n",
       "Coupon_Code                                                                 \n",
       "CLEAR50             0     1           0       1      0      0           1   \n",
       "DEAL20              0     2           1       1      2      0           0   \n",
       "DISCOUNT5           0     0           0       0      0      0           0   \n",
       "FESTIVE40           0     2           0       1      1      1           1   \n",
       "NEWUSER15           0     0           1       0      0      0           2   \n",
       "OFFER30             1     0           1       0      3      2           1   \n",
       "SAVE10              0     0           1       1      0      1           0   \n",
       "STYLE15             2     0           1       1      3      1           0   \n",
       "TECH10              1     2           0       0      1      0           1   \n",
       "WELCOME25           0     1           0       1      2      0           1   \n",
       "\n",
       "Product      Sunglasses  T-shirt  Watch  \n",
       "Coupon_Code                              \n",
       "CLEAR50               2        0      0  \n",
       "DEAL20                2        0      2  \n",
       "DISCOUNT5             1        0      1  \n",
       "FESTIVE40             1        1      0  \n",
       "NEWUSER15             3        0      2  \n",
       "OFFER30               1        0      2  \n",
       "SAVE10                1        1      0  \n",
       "STYLE15               0        1      1  \n",
       "TECH10                2        0      0  \n",
       "WELCOME25             1        0      0  "
      ]
     },
     "execution_count": 6,
     "metadata": {},
     "output_type": "execute_result"
    }
   ],
   "source": [
    "#Classification of different coupons used on the basis of products.\n",
    "coupon_product_usage = df_coupon_used.groupby(['Coupon_Code', 'Product']).size().unstack(fill_value=0)\n",
    "coupon_product_usage\n"
   ]
  },
  {
   "cell_type": "code",
   "execution_count": 7,
   "id": "8eb5d34b-01ba-4216-94cf-e4f81b9a1103",
   "metadata": {},
   "outputs": [
    {
     "name": "stdout",
     "output_type": "stream",
     "text": [
      "<class 'pandas.core.frame.DataFrame'>\n",
      "RangeIndex: 100 entries, 0 to 99\n",
      "Data columns (total 12 columns):\n",
      " #   Column           Non-Null Count  Dtype         \n",
      "---  ------           --------------  -----         \n",
      " 0   Order_ID         100 non-null    int64         \n",
      " 1   Customer_ID      100 non-null    object        \n",
      " 2   Product          100 non-null    object        \n",
      " 3   Category         100 non-null    object        \n",
      " 4   Price            100 non-null    int64         \n",
      " 5   Discount (%)     100 non-null    int64         \n",
      " 6   Coupon_Code      100 non-null    object        \n",
      " 7   Used_Coupon      100 non-null    object        \n",
      " 8   Date             100 non-null    datetime64[ns]\n",
      " 9   Location         100 non-null    object        \n",
      " 10  Final_Price      100 non-null    float64       \n",
      " 11  Discount_Amount  100 non-null    float64       \n",
      "dtypes: datetime64[ns](1), float64(2), int64(3), object(6)\n",
      "memory usage: 9.5+ KB\n"
     ]
    }
   ],
   "source": [
    "#Do Feature Engineering if required like PAT Income, etc\n",
    "#1 . calculating the discount amount by using coupans\n",
    "df['Discount_Amount'] = df['Price'] * (df['Discount (%)'] / 100)\n",
    "df.info()\n"
   ]
  },
  {
   "cell_type": "code",
   "execution_count": 8,
   "id": "a8843580-aa67-4746-8e9b-ed6a614352e6",
   "metadata": {},
   "outputs": [
    {
     "name": "stdout",
     "output_type": "stream",
     "text": [
      "0      301.212\n",
      "1     1378.440\n",
      "2      658.908\n",
      "3     1044.162\n",
      "4     3010.122\n",
      "        ...   \n",
      "95    1167.075\n",
      "96    1642.518\n",
      "97    1452.240\n",
      "98    2248.704\n",
      "99    2111.400\n",
      "Name: Tax, Length: 100, dtype: float64 0      1372.188\n",
      "1      6279.560\n",
      "2      3001.692\n",
      "3      4756.738\n",
      "4     13712.778\n",
      "        ...    \n",
      "95     5316.675\n",
      "96     7482.582\n",
      "97     6615.760\n",
      "98    10244.096\n",
      "99     9618.600\n",
      "Name: PAT, Length: 100, dtype: float64\n"
     ]
    }
   ],
   "source": [
    "#1.calculating the  PAT (Profit After Tax)\n",
    "df['Tax'] = df['Final_Price'] * 0.18\n",
    "df['PAT'] = df['Final_Price'] - df['Tax']\n",
    "print(df.Tax,df.PAT)"
   ]
  },
  {
   "cell_type": "code",
   "execution_count": 9,
   "id": "67a72ada-2eab-4a34-883e-832a656ccf97",
   "metadata": {},
   "outputs": [
    {
     "name": "stdout",
     "output_type": "stream",
     "text": [
      "Product\n",
      "Backpack       79284.75\n",
      "Book           91385.80\n",
      "Headphones     61076.30\n",
      "Laptop         22680.65\n",
      "Phone         176507.15\n",
      "Shoes          52679.15\n",
      "Smartwatch     85603.65\n",
      "Sunglasses    116040.05\n",
      "T-shirt        53995.20\n",
      "Watch         117465.65\n",
      "Name: Final_Price, dtype: float64\n"
     ]
    }
   ],
   "source": [
    "#calculating revenue per products\n",
    "product_revenue = df.groupby('Product')['Final_Price'].sum()\n",
    "print(product_revenue)"
   ]
  },
  {
   "cell_type": "code",
   "execution_count": 10,
   "id": "8f4e1a26-2a0c-4d40-9063-55d5149afc74",
   "metadata": {},
   "outputs": [
    {
     "data": {
      "text/plain": [
       "Month\n",
       "2024-07     30268.45\n",
       "2024-08     54452.60\n",
       "2024-09     68617.75\n",
       "2024-10     43342.30\n",
       "2024-11     73224.00\n",
       "2024-12     66214.50\n",
       "2025-01     56699.85\n",
       "2025-02    105297.20\n",
       "2025-03     61870.50\n",
       "2025-04     88751.90\n",
       "2025-05     97632.50\n",
       "2025-06     83524.40\n",
       "2025-07     26822.40\n",
       "Freq: M, Name: Final_Price, dtype: float64"
      ]
     },
     "execution_count": 10,
     "metadata": {},
     "output_type": "execute_result"
    }
   ],
   "source": [
    "#Provide month wise classification of sales.\n",
    "\n",
    "df['Month'] = df['Date'].dt.to_period('M')\n",
    "monthly_sales = df.groupby('Month')['Final_Price'].sum().sort_index()\n",
    "monthly_sales"
   ]
  },
  {
   "cell_type": "code",
   "execution_count": 12,
   "id": "4874e74a-10f4-4c89-b3f5-dbc6882837bc",
   "metadata": {},
   "outputs": [
    {
     "data": {
      "image/png": "[encoded data removed]",
      "text/plain": [
       "<Figure size 640x480 with 1 Axes>"
      ]
     },
     "metadata": {},
     "output_type": "display_data"
    }
   ],
   "source": [
    "# data visualization\n",
    "\n",
    "monthly_sales.plot(kind='line', marker='o', title='Month-wise Sales Trend')\n",
    "plt.xlabel(\"Month\")\n",
    "plt.ylabel(\"Sales Amount\")\n",
    "plt.grid(True)\n",
    "plt.show()\n"
   ]
  },
  {
   "cell_type": "code",
   "execution_count": null,
   "id": "8eabe97d-1e14-446d-85c0-c802aab247f5",
   "metadata": {},
   "outputs": [],
   "source": []
  },
  {
   "cell_type": "code",
   "execution_count": null,
   "id": "4f4838e7-8229-4557-a8b0-89ed2ec009e3",
   "metadata": {},
   "outputs": [],
   "source": []
  }
 ],
 "metadata": {
  "kernelspec": {
   "display_name": "Python 3 (ipykernel)",
   "language": "python",
   "name": "python3"
  },
  "language_info": {
   "codemirror_mode": {
    "name": "ipython",
    "version": 3
   },
   "file_extension": ".py",
   "mimetype": "text/x-python",
   "name": "python",
   "nbconvert_exporter": "python",
   "pygments_lexer": "ipython3",
   "version": "3.11.0rc2"
  }
 },
 "nbformat": 4,
 "nbformat_minor": 5
}
